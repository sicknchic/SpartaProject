{
 "cells": [
  {
   "cell_type": "code",
   "execution_count": 7,
   "id": "294d96a3-477a-4cd0-bc21-4c4568a6cf81",
   "metadata": {},
   "outputs": [
    {
     "name": "stdout",
     "output_type": "stream",
     "text": [
      "1과 10 사이의 숫자를 하나 정했습니다.\n",
      "이 숫자는 무엇일까요?\n"
     ]
    },
    {
     "name": "stdin",
     "output_type": "stream",
     "text": [
      "예상 숫자 : 1\n"
     ]
    },
    {
     "name": "stdout",
     "output_type": "stream",
     "text": [
      "너무 작습니다. 다시 입력하세요\n"
     ]
    },
    {
     "name": "stdin",
     "output_type": "stream",
     "text": [
      "예상 숫자 : 2\n"
     ]
    },
    {
     "name": "stdout",
     "output_type": "stream",
     "text": [
      "너무 작습니다. 다시 입력하세요\n"
     ]
    },
    {
     "name": "stdin",
     "output_type": "stream",
     "text": [
      "예상 숫자 : 3\n"
     ]
    },
    {
     "name": "stdout",
     "output_type": "stream",
     "text": [
      "정답입니다.\n"
     ]
    },
    {
     "name": "stdin",
     "output_type": "stream",
     "text": [
      "게임을 다시 하시겠습니까? (y/n) 4\n",
      "\"y\" 또는 \"n\" 을 입력해주세요. 5\n",
      "\"y\" 또는 \"n\" 을 입력해주세요. n\n"
     ]
    },
    {
     "name": "stdout",
     "output_type": "stream",
     "text": [
      "게임을 종료합니다. 즐거우셨나요? 또 만나요!\n"
     ]
    }
   ],
   "source": [
    "import random    # 랜덤 숫자를 생성하기 위한 random모듈 import\n",
    "\n",
    "endgame = 'y'\n",
    "while endgame == 'y': \n",
    "        answer = random.randrange(1,11)    # 컴퓨터가 1에서 10 사이의 숫자를 랜덤하게 정하여 변수로 저장.\n",
    "    \n",
    "        print(\"1과 10 사이의 숫자를 하나 정했습니다.\")   # 숫자 맞추기 게임의 프롬프트 출력 (단일 출력으로 변수로 따로 만들지 않음)\n",
    "        print(\"이 숫자는 무엇일까요?\")     # 숫자 맞추기 게임의 프롬프트 출력 (단일 출력으로 변수로 따로 만들지 않음)\n",
    "    \n",
    "        while True:    # 범위가 아닌 조건을 기준으로 반복을 하기 위해 while문 사용\n",
    "            input_num = int(input(\"예상 숫자 :\"))    # 사용자 입력하는 숫자를 변수로 저장, 입력과정은 반복되기 때문에 while 내부 변수선언 하였음.\n",
    "        \n",
    "            if input_num > 10 or input_num < 1:  # if-elif-else 구문을 통해 입력값과 컴퓨터가 정한 값을 비교 후, 상황에 맞는 구문 출력\n",
    "                print(\"1과 10사이의 숫자를 입력해주세요\")\n",
    "                continue\n",
    "\n",
    "            if input_num > answer:\n",
    "                print(\"너무 큽니다. 다시 입력하세요\")\n",
    "        \n",
    "            elif input_num < answer:\n",
    "                print(\"너무 작습니다. 다시 입력하세요\")\n",
    "                \n",
    "            else:   # 사용자의 입력값과 컴퓨터가 정한 숫자가 같은 경우, 정답임을 알려주고, break를 통해 반복문에서 탈출\n",
    "                print(\"정답입니다.\")\n",
    "                break\n",
    "                         \n",
    "        endgame = input(\"게임을 다시 하시겠습니까? (y/n)\") # break로 반복을 탈출하고, 게임 재실행 여부를 물어봄\n",
    "    \n",
    "        while endgame not in ['y', 'n']:   # 재실행 여부의 답변이 'y' 또는 'n'이 아닌 경우, 정확한 답변을 할 때까지 묻는 while문 사용\n",
    "            endgame = input('\"y\" 또는 \"n\" 을 입력해주세요.') # 재실행 여부의 답변이 'y' 인 경우 while을 나오고, 첫번째 while문 조건 때문에 게임을 반복\n",
    "            \n",
    "print(\"게임을 종료합니다. 즐거우셨나요? 또 만나요!\") # # 재실행 여부의 답변이 'n' 인 경우 모든 while에서 나와 게임을 종료."
   ]
  },
  {
   "cell_type": "code",
   "execution_count": null,
   "id": "5709861d-f91e-4ac2-b910-d82e9cd72be1",
   "metadata": {},
   "outputs": [],
   "source": []
  }
 ],
 "metadata": {
  "kernelspec": {
   "display_name": "Python 3 (ipykernel)",
   "language": "python",
   "name": "python3"
  },
  "language_info": {
   "codemirror_mode": {
    "name": "ipython",
    "version": 3
   },
   "file_extension": ".py",
   "mimetype": "text/x-python",
   "name": "python",
   "nbconvert_exporter": "python",
   "pygments_lexer": "ipython3",
   "version": "3.12.7"
  }
 },
 "nbformat": 4,
 "nbformat_minor": 5
}
