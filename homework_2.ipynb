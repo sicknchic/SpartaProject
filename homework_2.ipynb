{
 "cells": [
  {
   "cell_type": "code",
   "execution_count": null,
   "id": "6bbd4813-cf25-48e9-be4f-e5ef1644a82a",
   "metadata": {},
   "outputs": [],
   "source": [
    "class Person:    # 클래스 정의\n",
    "    def __init__(self, age, name, gender):    # __init__ 매서드는 자동 호출되고, 객체의 속성값을 정의해줌. \n",
    "        while gender not in ['male', 'female']:    # 객체를 생성할 떄 입력되는 인자가 조건을 충족하는지 확인하고, 충족할 때까지 반복 / 조건은 gender인자가 'male' 또는 'female' 이 아니면 반복하는 구조.\n",
    "            print(\"잘못된 성별을 입력하셨습니다. 'male' 또는 'female'을 입력하세요.\")    \n",
    "            gender = input()    # gender 값의 재입력을 요구.\n",
    "        \n",
    "        print('객체를 정상적으로 생성하셨습니다.')   # 조건에 맞는 객체가 제대로 생성된 것을 나타내줌.\n",
    "        self.age= age    # 객체의 나이 속성.\n",
    "        self.name = name    # 객체의 이름 속성.\n",
    "        self.gender = gender    # 객체의 성별 속성.\n",
    "        \n",
    "    def display(self):    # display 매서드: 객체의 속성을 문장형태로 출력.\n",
    "        print(f\"이름: {self.name}, 성별: {self.gender}\\n나이: {self.age}\")\n",
    "\n",
    "    def greet(self):    # greet 매서드: 나이에 따른 인사\n",
    "        if self.age > 20:   # if-elif-else 구문을 통해, 나이에 따른 인사말 출력\n",
    "            print(f\"안녕하세요, {self.name}! 성인이시군요!\")\n",
    "        elif self.age > 13:\n",
    "            print(f\"안녕하세요, {self.name}! 청소년이시군요!\")\n",
    "        else:\n",
    "            print(f\"안녕하세요, {self.name}! 어린이시군요!\")           \n",
    "        "
   ]
  }
 ],
 "metadata": {
  "kernelspec": {
   "display_name": "Python 3 (ipykernel)",
   "language": "python",
   "name": "python3"
  },
  "language_info": {
   "codemirror_mode": {
    "name": "ipython",
    "version": 3
   },
   "file_extension": ".py",
   "mimetype": "text/x-python",
   "name": "python",
   "nbconvert_exporter": "python",
   "pygments_lexer": "ipython3",
   "version": "3.12.7"
  }
 },
 "nbformat": 4,
 "nbformat_minor": 5
}
